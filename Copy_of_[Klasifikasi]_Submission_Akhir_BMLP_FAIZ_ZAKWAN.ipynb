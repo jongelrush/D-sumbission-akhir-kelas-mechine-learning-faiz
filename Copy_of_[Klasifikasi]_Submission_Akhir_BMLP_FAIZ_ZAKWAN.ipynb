{
  "nbformat": 4,
  "nbformat_minor": 0,
  "metadata": {
    "colab": {
      "provenance": []
    },
    "kernelspec": {
      "name": "python3",
      "display_name": "Python 3"
    },
    "language_info": {
      "name": "python"
    }
  },
  "cells": [
    {
      "cell_type": "markdown",
      "source": [
        "# **1. Import Library**"
      ],
      "metadata": {
        "id": "fKADPWcFKlj3"
      }
    },
    {
      "cell_type": "markdown",
      "source": [
        "Pada tahap ini, Anda perlu mengimpor beberapa pustaka (library) Python yang dibutuhkan untuk analisis data dan pembangunan model machine learning."
      ],
      "metadata": {
        "id": "LgA3ERnVn84N"
      }
    },
    {
      "cell_type": "code",
      "source": [
        "import pandas as pd\n",
        "import numpy as np\n",
        "import seaborn as sns\n",
        "import matplotlib.pyplot as plt\n",
        "from sklearn.model_selection import train_test_split\n",
        "from sklearn.preprocessing import LabelEncoder, StandardScaler, MinMaxScaler\n",
        "from sklearn.neighbors import KNeighborsClassifier\n",
        "from sklearn.tree import DecisionTreeClassifier\n",
        "from sklearn.ensemble import RandomForestClassifier\n",
        "from sklearn.svm import SVC\n",
        "from sklearn.naive_bayes import GaussianNB\n",
        "from sklearn.metrics import confusion_matrix, accuracy_score, precision_score"
      ],
      "metadata": {
        "id": "BlmvjLY9M4Yj"
      },
      "execution_count": 1,
      "outputs": []
    },
    {
      "cell_type": "markdown",
      "source": [
        "# **2. Memuat Dataset dari Hasil Clustering**"
      ],
      "metadata": {
        "id": "f3YIEnAFKrKL"
      }
    },
    {
      "cell_type": "markdown",
      "source": [
        "Memuat dataset hasil clustering dari file CSV ke dalam variabel DataFrame."
      ],
      "metadata": {
        "id": "Ey3ItwTen_7E"
      }
    },
    {
      "cell_type": "code",
      "source": [
        "df = pd.read_csv('clustered_data_gym.csv')\n",
        "df.head()"
      ],
      "metadata": {
        "id": "GHCGNTyrM5fS",
        "outputId": "d72d299c-2395-40c8-cfb1-3c262ea02ee0",
        "colab": {
          "base_uri": "https://localhost:8080/",
          "height": 521
        }
      },
      "execution_count": 2,
      "outputs": [
        {
          "output_type": "execute_result",
          "data": {
            "text/plain": [
              "   Unnamed: 0       Age  Weight (kg)  Height (m)   Avg_BPM  Resting_BPM  \\\n",
              "0           0 -0.035152     1.091571    0.994106  0.384736     1.266059   \n",
              "1           1 -0.688302     0.982713    0.749147  0.648923     1.139167   \n",
              "2           2 -1.014877    -0.100423    0.912453  1.309388    -0.002864   \n",
              "3           3  1.597722     0.471081    0.667494  1.507528    -0.764218   \n",
              "4           4 -0.035152    -0.753570    0.014270  1.507528     0.250921   \n",
              "\n",
              "   Session_Duration (hours)  Calories_Burned  Fat_Percentage  \\\n",
              "0                 -0.731206        -0.984101       -1.841483   \n",
              "1                 -1.056193        -0.613287        0.747444   \n",
              "2                 -0.406219         1.976278        0.884605   \n",
              "3                  0.162509        -1.241525        1.416107   \n",
              "4                  0.568744         0.774965        0.490266   \n",
              "\n",
              "   Water_Intake (liters)  Workout_Frequency (days/week)  Experience_Level  \\\n",
              "0              -0.438060                       1.782195          0.223870   \n",
              "1               0.129169                       1.782195          0.223870   \n",
              "2              -1.147097                      -0.354955          0.223870   \n",
              "3              -0.438060                       0.713620         -1.138269   \n",
              "4               0.696399                       0.713620          0.223870   \n",
              "\n",
              "        BMI  Gender Max_BPM Workout_Type  Kelas GYM  \\\n",
              "0 -0.895092  Female     174     Strength          1   \n",
              "1  2.488533  Female     166     Strength          1   \n",
              "2 -1.173827    Male     187       Cardio          0   \n",
              "3  0.173978  Female     187       Cardio          4   \n",
              "4  0.255129  Female     177     Strength          1   \n",
              "\n",
              "                                  Cluster  \n",
              "0     Frekuensi olahraga tinggi dan mahir  \n",
              "1     Frekuensi olahraga tinggi dan mahir  \n",
              "2    Frekuensi olahraga rendah dan pemula  \n",
              "3  Frekuensi olahraga tinggi dan menengah  \n",
              "4     Frekuensi olahraga tinggi dan mahir  "
            ],
            "text/html": [
              "\n",
              "  <div id=\"df-e863eed5-bd41-48d0-b829-a002efe87404\" class=\"colab-df-container\">\n",
              "    <div>\n",
              "<style scoped>\n",
              "    .dataframe tbody tr th:only-of-type {\n",
              "        vertical-align: middle;\n",
              "    }\n",
              "\n",
              "    .dataframe tbody tr th {\n",
              "        vertical-align: top;\n",
              "    }\n",
              "\n",
              "    .dataframe thead th {\n",
              "        text-align: right;\n",
              "    }\n",
              "</style>\n",
              "<table border=\"1\" class=\"dataframe\">\n",
              "  <thead>\n",
              "    <tr style=\"text-align: right;\">\n",
              "      <th></th>\n",
              "      <th>Unnamed: 0</th>\n",
              "      <th>Age</th>\n",
              "      <th>Weight (kg)</th>\n",
              "      <th>Height (m)</th>\n",
              "      <th>Avg_BPM</th>\n",
              "      <th>Resting_BPM</th>\n",
              "      <th>Session_Duration (hours)</th>\n",
              "      <th>Calories_Burned</th>\n",
              "      <th>Fat_Percentage</th>\n",
              "      <th>Water_Intake (liters)</th>\n",
              "      <th>Workout_Frequency (days/week)</th>\n",
              "      <th>Experience_Level</th>\n",
              "      <th>BMI</th>\n",
              "      <th>Gender</th>\n",
              "      <th>Max_BPM</th>\n",
              "      <th>Workout_Type</th>\n",
              "      <th>Kelas GYM</th>\n",
              "      <th>Cluster</th>\n",
              "    </tr>\n",
              "  </thead>\n",
              "  <tbody>\n",
              "    <tr>\n",
              "      <th>0</th>\n",
              "      <td>0</td>\n",
              "      <td>-0.035152</td>\n",
              "      <td>1.091571</td>\n",
              "      <td>0.994106</td>\n",
              "      <td>0.384736</td>\n",
              "      <td>1.266059</td>\n",
              "      <td>-0.731206</td>\n",
              "      <td>-0.984101</td>\n",
              "      <td>-1.841483</td>\n",
              "      <td>-0.438060</td>\n",
              "      <td>1.782195</td>\n",
              "      <td>0.223870</td>\n",
              "      <td>-0.895092</td>\n",
              "      <td>Female</td>\n",
              "      <td>174</td>\n",
              "      <td>Strength</td>\n",
              "      <td>1</td>\n",
              "      <td>Frekuensi olahraga tinggi dan mahir</td>\n",
              "    </tr>\n",
              "    <tr>\n",
              "      <th>1</th>\n",
              "      <td>1</td>\n",
              "      <td>-0.688302</td>\n",
              "      <td>0.982713</td>\n",
              "      <td>0.749147</td>\n",
              "      <td>0.648923</td>\n",
              "      <td>1.139167</td>\n",
              "      <td>-1.056193</td>\n",
              "      <td>-0.613287</td>\n",
              "      <td>0.747444</td>\n",
              "      <td>0.129169</td>\n",
              "      <td>1.782195</td>\n",
              "      <td>0.223870</td>\n",
              "      <td>2.488533</td>\n",
              "      <td>Female</td>\n",
              "      <td>166</td>\n",
              "      <td>Strength</td>\n",
              "      <td>1</td>\n",
              "      <td>Frekuensi olahraga tinggi dan mahir</td>\n",
              "    </tr>\n",
              "    <tr>\n",
              "      <th>2</th>\n",
              "      <td>2</td>\n",
              "      <td>-1.014877</td>\n",
              "      <td>-0.100423</td>\n",
              "      <td>0.912453</td>\n",
              "      <td>1.309388</td>\n",
              "      <td>-0.002864</td>\n",
              "      <td>-0.406219</td>\n",
              "      <td>1.976278</td>\n",
              "      <td>0.884605</td>\n",
              "      <td>-1.147097</td>\n",
              "      <td>-0.354955</td>\n",
              "      <td>0.223870</td>\n",
              "      <td>-1.173827</td>\n",
              "      <td>Male</td>\n",
              "      <td>187</td>\n",
              "      <td>Cardio</td>\n",
              "      <td>0</td>\n",
              "      <td>Frekuensi olahraga rendah dan pemula</td>\n",
              "    </tr>\n",
              "    <tr>\n",
              "      <th>3</th>\n",
              "      <td>3</td>\n",
              "      <td>1.597722</td>\n",
              "      <td>0.471081</td>\n",
              "      <td>0.667494</td>\n",
              "      <td>1.507528</td>\n",
              "      <td>-0.764218</td>\n",
              "      <td>0.162509</td>\n",
              "      <td>-1.241525</td>\n",
              "      <td>1.416107</td>\n",
              "      <td>-0.438060</td>\n",
              "      <td>0.713620</td>\n",
              "      <td>-1.138269</td>\n",
              "      <td>0.173978</td>\n",
              "      <td>Female</td>\n",
              "      <td>187</td>\n",
              "      <td>Cardio</td>\n",
              "      <td>4</td>\n",
              "      <td>Frekuensi olahraga tinggi dan menengah</td>\n",
              "    </tr>\n",
              "    <tr>\n",
              "      <th>4</th>\n",
              "      <td>4</td>\n",
              "      <td>-0.035152</td>\n",
              "      <td>-0.753570</td>\n",
              "      <td>0.014270</td>\n",
              "      <td>1.507528</td>\n",
              "      <td>0.250921</td>\n",
              "      <td>0.568744</td>\n",
              "      <td>0.774965</td>\n",
              "      <td>0.490266</td>\n",
              "      <td>0.696399</td>\n",
              "      <td>0.713620</td>\n",
              "      <td>0.223870</td>\n",
              "      <td>0.255129</td>\n",
              "      <td>Female</td>\n",
              "      <td>177</td>\n",
              "      <td>Strength</td>\n",
              "      <td>1</td>\n",
              "      <td>Frekuensi olahraga tinggi dan mahir</td>\n",
              "    </tr>\n",
              "  </tbody>\n",
              "</table>\n",
              "</div>\n",
              "    <div class=\"colab-df-buttons\">\n",
              "\n",
              "  <div class=\"colab-df-container\">\n",
              "    <button class=\"colab-df-convert\" onclick=\"convertToInteractive('df-e863eed5-bd41-48d0-b829-a002efe87404')\"\n",
              "            title=\"Convert this dataframe to an interactive table.\"\n",
              "            style=\"display:none;\">\n",
              "\n",
              "  <svg xmlns=\"http://www.w3.org/2000/svg\" height=\"24px\" viewBox=\"0 -960 960 960\">\n",
              "    <path d=\"M120-120v-720h720v720H120Zm60-500h600v-160H180v160Zm220 220h160v-160H400v160Zm0 220h160v-160H400v160ZM180-400h160v-160H180v160Zm440 0h160v-160H620v160ZM180-180h160v-160H180v160Zm440 0h160v-160H620v160Z\"/>\n",
              "  </svg>\n",
              "    </button>\n",
              "\n",
              "  <style>\n",
              "    .colab-df-container {\n",
              "      display:flex;\n",
              "      gap: 12px;\n",
              "    }\n",
              "\n",
              "    .colab-df-convert {\n",
              "      background-color: #E8F0FE;\n",
              "      border: none;\n",
              "      border-radius: 50%;\n",
              "      cursor: pointer;\n",
              "      display: none;\n",
              "      fill: #1967D2;\n",
              "      height: 32px;\n",
              "      padding: 0 0 0 0;\n",
              "      width: 32px;\n",
              "    }\n",
              "\n",
              "    .colab-df-convert:hover {\n",
              "      background-color: #E2EBFA;\n",
              "      box-shadow: 0px 1px 2px rgba(60, 64, 67, 0.3), 0px 1px 3px 1px rgba(60, 64, 67, 0.15);\n",
              "      fill: #174EA6;\n",
              "    }\n",
              "\n",
              "    .colab-df-buttons div {\n",
              "      margin-bottom: 4px;\n",
              "    }\n",
              "\n",
              "    [theme=dark] .colab-df-convert {\n",
              "      background-color: #3B4455;\n",
              "      fill: #D2E3FC;\n",
              "    }\n",
              "\n",
              "    [theme=dark] .colab-df-convert:hover {\n",
              "      background-color: #434B5C;\n",
              "      box-shadow: 0px 1px 3px 1px rgba(0, 0, 0, 0.15);\n",
              "      filter: drop-shadow(0px 1px 2px rgba(0, 0, 0, 0.3));\n",
              "      fill: #FFFFFF;\n",
              "    }\n",
              "  </style>\n",
              "\n",
              "    <script>\n",
              "      const buttonEl =\n",
              "        document.querySelector('#df-e863eed5-bd41-48d0-b829-a002efe87404 button.colab-df-convert');\n",
              "      buttonEl.style.display =\n",
              "        google.colab.kernel.accessAllowed ? 'block' : 'none';\n",
              "\n",
              "      async function convertToInteractive(key) {\n",
              "        const element = document.querySelector('#df-e863eed5-bd41-48d0-b829-a002efe87404');\n",
              "        const dataTable =\n",
              "          await google.colab.kernel.invokeFunction('convertToInteractive',\n",
              "                                                    [key], {});\n",
              "        if (!dataTable) return;\n",
              "\n",
              "        const docLinkHtml = 'Like what you see? Visit the ' +\n",
              "          '<a target=\"_blank\" href=https://colab.research.google.com/notebooks/data_table.ipynb>data table notebook</a>'\n",
              "          + ' to learn more about interactive tables.';\n",
              "        element.innerHTML = '';\n",
              "        dataTable['output_type'] = 'display_data';\n",
              "        await google.colab.output.renderOutput(dataTable, element);\n",
              "        const docLink = document.createElement('div');\n",
              "        docLink.innerHTML = docLinkHtml;\n",
              "        element.appendChild(docLink);\n",
              "      }\n",
              "    </script>\n",
              "  </div>\n",
              "\n",
              "\n",
              "<div id=\"df-4e20da19-2e86-48ee-bba9-d8411b85f113\">\n",
              "  <button class=\"colab-df-quickchart\" onclick=\"quickchart('df-4e20da19-2e86-48ee-bba9-d8411b85f113')\"\n",
              "            title=\"Suggest charts\"\n",
              "            style=\"display:none;\">\n",
              "\n",
              "<svg xmlns=\"http://www.w3.org/2000/svg\" height=\"24px\"viewBox=\"0 0 24 24\"\n",
              "     width=\"24px\">\n",
              "    <g>\n",
              "        <path d=\"M19 3H5c-1.1 0-2 .9-2 2v14c0 1.1.9 2 2 2h14c1.1 0 2-.9 2-2V5c0-1.1-.9-2-2-2zM9 17H7v-7h2v7zm4 0h-2V7h2v10zm4 0h-2v-4h2v4z\"/>\n",
              "    </g>\n",
              "</svg>\n",
              "  </button>\n",
              "\n",
              "<style>\n",
              "  .colab-df-quickchart {\n",
              "      --bg-color: #E8F0FE;\n",
              "      --fill-color: #1967D2;\n",
              "      --hover-bg-color: #E2EBFA;\n",
              "      --hover-fill-color: #174EA6;\n",
              "      --disabled-fill-color: #AAA;\n",
              "      --disabled-bg-color: #DDD;\n",
              "  }\n",
              "\n",
              "  [theme=dark] .colab-df-quickchart {\n",
              "      --bg-color: #3B4455;\n",
              "      --fill-color: #D2E3FC;\n",
              "      --hover-bg-color: #434B5C;\n",
              "      --hover-fill-color: #FFFFFF;\n",
              "      --disabled-bg-color: #3B4455;\n",
              "      --disabled-fill-color: #666;\n",
              "  }\n",
              "\n",
              "  .colab-df-quickchart {\n",
              "    background-color: var(--bg-color);\n",
              "    border: none;\n",
              "    border-radius: 50%;\n",
              "    cursor: pointer;\n",
              "    display: none;\n",
              "    fill: var(--fill-color);\n",
              "    height: 32px;\n",
              "    padding: 0;\n",
              "    width: 32px;\n",
              "  }\n",
              "\n",
              "  .colab-df-quickchart:hover {\n",
              "    background-color: var(--hover-bg-color);\n",
              "    box-shadow: 0 1px 2px rgba(60, 64, 67, 0.3), 0 1px 3px 1px rgba(60, 64, 67, 0.15);\n",
              "    fill: var(--button-hover-fill-color);\n",
              "  }\n",
              "\n",
              "  .colab-df-quickchart-complete:disabled,\n",
              "  .colab-df-quickchart-complete:disabled:hover {\n",
              "    background-color: var(--disabled-bg-color);\n",
              "    fill: var(--disabled-fill-color);\n",
              "    box-shadow: none;\n",
              "  }\n",
              "\n",
              "  .colab-df-spinner {\n",
              "    border: 2px solid var(--fill-color);\n",
              "    border-color: transparent;\n",
              "    border-bottom-color: var(--fill-color);\n",
              "    animation:\n",
              "      spin 1s steps(1) infinite;\n",
              "  }\n",
              "\n",
              "  @keyframes spin {\n",
              "    0% {\n",
              "      border-color: transparent;\n",
              "      border-bottom-color: var(--fill-color);\n",
              "      border-left-color: var(--fill-color);\n",
              "    }\n",
              "    20% {\n",
              "      border-color: transparent;\n",
              "      border-left-color: var(--fill-color);\n",
              "      border-top-color: var(--fill-color);\n",
              "    }\n",
              "    30% {\n",
              "      border-color: transparent;\n",
              "      border-left-color: var(--fill-color);\n",
              "      border-top-color: var(--fill-color);\n",
              "      border-right-color: var(--fill-color);\n",
              "    }\n",
              "    40% {\n",
              "      border-color: transparent;\n",
              "      border-right-color: var(--fill-color);\n",
              "      border-top-color: var(--fill-color);\n",
              "    }\n",
              "    60% {\n",
              "      border-color: transparent;\n",
              "      border-right-color: var(--fill-color);\n",
              "    }\n",
              "    80% {\n",
              "      border-color: transparent;\n",
              "      border-right-color: var(--fill-color);\n",
              "      border-bottom-color: var(--fill-color);\n",
              "    }\n",
              "    90% {\n",
              "      border-color: transparent;\n",
              "      border-bottom-color: var(--fill-color);\n",
              "    }\n",
              "  }\n",
              "</style>\n",
              "\n",
              "  <script>\n",
              "    async function quickchart(key) {\n",
              "      const quickchartButtonEl =\n",
              "        document.querySelector('#' + key + ' button');\n",
              "      quickchartButtonEl.disabled = true;  // To prevent multiple clicks.\n",
              "      quickchartButtonEl.classList.add('colab-df-spinner');\n",
              "      try {\n",
              "        const charts = await google.colab.kernel.invokeFunction(\n",
              "            'suggestCharts', [key], {});\n",
              "      } catch (error) {\n",
              "        console.error('Error during call to suggestCharts:', error);\n",
              "      }\n",
              "      quickchartButtonEl.classList.remove('colab-df-spinner');\n",
              "      quickchartButtonEl.classList.add('colab-df-quickchart-complete');\n",
              "    }\n",
              "    (() => {\n",
              "      let quickchartButtonEl =\n",
              "        document.querySelector('#df-4e20da19-2e86-48ee-bba9-d8411b85f113 button');\n",
              "      quickchartButtonEl.style.display =\n",
              "        google.colab.kernel.accessAllowed ? 'block' : 'none';\n",
              "    })();\n",
              "  </script>\n",
              "</div>\n",
              "\n",
              "    </div>\n",
              "  </div>\n"
            ],
            "application/vnd.google.colaboratory.intrinsic+json": {
              "type": "dataframe",
              "variable_name": "df",
              "summary": "{\n  \"name\": \"df\",\n  \"rows\": 1728,\n  \"fields\": [\n    {\n      \"column\": \"Unnamed: 0\",\n      \"properties\": {\n        \"dtype\": \"number\",\n        \"std\": 519,\n        \"min\": 0,\n        \"max\": 1799,\n        \"num_unique_values\": 1728,\n        \"samples\": [\n          625,\n          1252,\n          654\n        ],\n        \"semantic_type\": \"\",\n        \"description\": \"\"\n      }\n    },\n    {\n      \"column\": \"Age\",\n      \"properties\": {\n        \"dtype\": \"number\",\n        \"std\": 1.0002894774991922,\n        \"min\": -1.3414517777576656,\n        \"max\": 2.005940993113533,\n        \"num_unique_values\": 42,\n        \"samples\": [\n          -1.0965205994012364,\n          -0.1167958859755196,\n          0.9445725535690068\n        ],\n        \"semantic_type\": \"\",\n        \"description\": \"\"\n      }\n    },\n    {\n      \"column\": \"Weight (kg)\",\n      \"properties\": {\n        \"dtype\": \"number\",\n        \"std\": 1.0002894774991864,\n        \"min\": -1.4502597567047713,\n        \"max\": 2.9639254220734026,\n        \"num_unique_values\": 596,\n        \"samples\": [\n          1.2548574243713726,\n          -0.2092804462714499,\n          0.5962675271677234\n        ],\n        \"semantic_type\": \"\",\n        \"description\": \"\"\n      }\n    },\n    {\n      \"column\": \"Height (m)\",\n      \"properties\": {\n        \"dtype\": \"number\",\n        \"std\": 1.0002894774991884,\n        \"min\": -1.9453999874729304,\n        \"max\": 2.1372465735584325,\n        \"num_unique_values\": 51,\n        \"samples\": [\n          -1.2105236064872846,\n          -0.5573001567222677,\n          0.4225350179252602\n        ],\n        \"semantic_type\": \"\",\n        \"description\": \"\"\n      }\n    },\n    {\n      \"column\": \"Avg_BPM\",\n      \"properties\": {\n        \"dtype\": \"number\",\n        \"std\": 1.0002894774991868,\n        \"min\": -1.7287531733159094,\n        \"max\": 1.5075278059236386,\n        \"num_unique_values\": 50,\n        \"samples\": [\n          -1.4645669709290077,\n          1.1772950529400112,\n          -0.6059618131715764\n        ],\n        \"semantic_type\": \"\",\n        \"description\": \"\"\n      }\n    },\n    {\n      \"column\": \"Resting_BPM\",\n      \"properties\": {\n        \"dtype\": \"number\",\n        \"std\": 1.0002894774991842,\n        \"min\": -1.7793563842900872,\n        \"max\": 1.266059321594049,\n        \"num_unique_values\": 25,\n        \"samples\": [\n          -1.7793563842900872,\n          1.0122746794370376,\n          1.266059321594049\n        ],\n        \"semantic_type\": \"\",\n        \"description\": \"\"\n      }\n    },\n    {\n      \"column\": \"Session_Duration (hours)\",\n      \"properties\": {\n        \"dtype\": \"number\",\n        \"std\": 1.000289477499193,\n        \"min\": -2.4103073363320004,\n        \"max\": 1.6520348135808989,\n        \"num_unique_values\": 147,\n        \"samples\": [\n          -1.4624275013523242,\n          0.5416612926047064,\n          1.1916360365907703\n        ],\n        \"semantic_type\": \"\",\n        \"description\": \"\"\n      }\n    },\n    {\n      \"column\": \"Calories_Burned\",\n      \"properties\": {\n        \"dtype\": \"number\",\n        \"std\": 1.0002894774991886,\n        \"min\": -2.237512038972071,\n        \"max\": 2.298058673149938,\n        \"num_unique_values\": 905,\n        \"samples\": [\n          0.0578544903383241,\n          0.0455961911163728,\n          0.0272087422834457\n        ],\n        \"semantic_type\": \"\",\n        \"description\": \"\"\n      }\n    },\n    {\n      \"column\": \"Fat_Percentage\",\n      \"properties\": {\n        \"dtype\": \"number\",\n        \"std\": 1.0002894774991873,\n        \"min\": -2.3215483204627985,\n        \"max\": 1.964753390965225,\n        \"num_unique_values\": 241,\n        \"samples\": [\n          -0.6070276358915891,\n          -1.9957893903942687,\n          -2.030079804085693\n        ],\n        \"semantic_type\": \"\",\n        \"description\": \"\"\n      }\n    },\n    {\n      \"column\": \"Water_Intake (liters)\",\n      \"properties\": {\n        \"dtype\": \"number\",\n        \"std\": 1.0002894774991882,\n        \"min\": -1.7143262253095837,\n        \"max\": 1.4054356598684503,\n        \"num_unique_values\": 23,\n        \"samples\": [\n          0.8382062261997163,\n          -0.0126379243033832,\n          -0.4380599995549336\n        ],\n        \"semantic_type\": \"\",\n        \"description\": \"\"\n      }\n    },\n    {\n      \"column\": \"Workout_Frequency (days/week)\",\n      \"properties\": {\n        \"dtype\": \"number\",\n        \"std\": 1.0002894774992033,\n        \"min\": -1.423529538625386,\n        \"max\": 1.7821946699906004,\n        \"num_unique_values\": 4,\n        \"samples\": [\n          -0.3549548024200573,\n          -1.423529538625386,\n          1.7821946699906004\n        ],\n        \"semantic_type\": \"\",\n        \"description\": \"\"\n      }\n    },\n    {\n      \"column\": \"Experience_Level\",\n      \"properties\": {\n        \"dtype\": \"number\",\n        \"std\": 1.0002894774991993,\n        \"min\": -1.13826900319442,\n        \"max\": 1.5860091651157708,\n        \"num_unique_values\": 3,\n        \"samples\": [\n          0.2238700809606754,\n          -1.13826900319442,\n          1.5860091651157708\n        ],\n        \"semantic_type\": \"\",\n        \"description\": \"\"\n      }\n    },\n    {\n      \"column\": \"BMI\",\n      \"properties\": {\n        \"dtype\": \"number\",\n        \"std\": 1.0002894774991897,\n        \"min\": -1.2461564631736677,\n        \"max\": 2.908399442974037,\n        \"num_unique_values\": 1019,\n        \"samples\": [\n          -0.7257343857581379,\n          0.0116772358001384,\n          1.2712750774092518\n        ],\n        \"semantic_type\": \"\",\n        \"description\": \"\"\n      }\n    },\n    {\n      \"column\": \"Gender\",\n      \"properties\": {\n        \"dtype\": \"category\",\n        \"num_unique_values\": 2,\n        \"samples\": [\n          \"Male\",\n          \"Female\"\n        ],\n        \"semantic_type\": \"\",\n        \"description\": \"\"\n      }\n    },\n    {\n      \"column\": \"Max_BPM\",\n      \"properties\": {\n        \"dtype\": \"category\",\n        \"num_unique_values\": 42,\n        \"samples\": [\n          \"\\\\t182\",\n          \"184\"\n        ],\n        \"semantic_type\": \"\",\n        \"description\": \"\"\n      }\n    },\n    {\n      \"column\": \"Workout_Type\",\n      \"properties\": {\n        \"dtype\": \"category\",\n        \"num_unique_values\": 7,\n        \"samples\": [\n          \"Strength\",\n          \"Cardio\"\n        ],\n        \"semantic_type\": \"\",\n        \"description\": \"\"\n      }\n    },\n    {\n      \"column\": \"Kelas GYM\",\n      \"properties\": {\n        \"dtype\": \"number\",\n        \"std\": 1,\n        \"min\": 0,\n        \"max\": 5,\n        \"num_unique_values\": 6,\n        \"samples\": [\n          1,\n          0\n        ],\n        \"semantic_type\": \"\",\n        \"description\": \"\"\n      }\n    },\n    {\n      \"column\": \"Cluster\",\n      \"properties\": {\n        \"dtype\": \"category\",\n        \"num_unique_values\": 6,\n        \"samples\": [\n          \"Frekuensi olahraga tinggi dan mahir\",\n          \"Frekuensi olahraga rendah dan pemula\"\n        ],\n        \"semantic_type\": \"\",\n        \"description\": \"\"\n      }\n    }\n  ]\n}"
            }
          },
          "metadata": {},
          "execution_count": 2
        }
      ]
    },
    {
      "cell_type": "code",
      "source": [
        "# Visualisasi distribusi variabel target\n",
        "plt.figure(figsize=(8, 4))\n",
        "sns.countplot(x='Kelas GYM', data=df, palette='viridis')\n",
        "plt.title('Distribusi Variabel Target (Exited)')\n",
        "plt.show()"
      ],
      "metadata": {
        "colab": {
          "base_uri": "https://localhost:8080/",
          "height": 520
        },
        "id": "NtXEb8mxgq-c",
        "outputId": "69ca6db0-d3d8-457c-f763-2ab164062cab"
      },
      "execution_count": 3,
      "outputs": [
        {
          "output_type": "stream",
          "name": "stderr",
          "text": [
            "<ipython-input-3-e59b55eac3c7>:3: FutureWarning: \n",
            "\n",
            "Passing `palette` without assigning `hue` is deprecated and will be removed in v0.14.0. Assign the `x` variable to `hue` and set `legend=False` for the same effect.\n",
            "\n",
            "  sns.countplot(x='Kelas GYM', data=df, palette='viridis')\n"
          ]
        },
        {
          "output_type": "display_data",
          "data": {
            "text/plain": [
              "<Figure size 800x400 with 1 Axes>"
            ],
            "image/png": "[encoded data removed]"
          },
          "metadata": {}
        }
      ]
    },
    {
      "cell_type": "markdown",
      "source": [
        "# **3. Data Splitting**"
      ],
      "metadata": {
        "id": "KkPem5eWL2UP"
      }
    },
    {
      "cell_type": "markdown",
      "source": [
        "Tahap Data Splitting bertujuan untuk memisahkan dataset menjadi dua bagian: data latih (training set) dan data uji (test set)."
      ],
      "metadata": {
        "id": "YYj1rl_JNI9Y"
      }
    },
    {
      "cell_type": "code",
      "source": [
        "# Buat instance MinMaxScaler\n",
        "scaler = MinMaxScaler()\n",
        "\n",
        "# Normalisasi semua kolom numerik\n",
        "numeric_columns = df.select_dtypes(include=['int64', 'float64']).columns\n",
        "df[numeric_columns] = scaler.fit_transform(df[numeric_columns])\n",
        "\n",
        "# Pisahkan fitur (X) dan target (y)\n",
        "X = df.drop(columns=['Kelas GYM'])\n",
        "y = df['Kelas GYM']\n",
        "\n",
        "# Split data menjadi set pelatihan dan set uji\n",
        "X_train, X_test, y_train, y_test = train_test_split(X, y, test_size=0.2, random_state=42)\n",
        "\n",
        "# Tampilkan bentuk set pelatihan dan set uji untuk memastikan split\n",
        "print(f\"Training set shape: X_train={X_train.shape}, y_train={y_train.shape}\")\n",
        "print(f\"Test set shape: X_test={X_test.shape}, y_test={y_test.shape}\")"
      ],
      "metadata": {
        "id": "OubAW-7ONKVj",
        "colab": {
          "base_uri": "https://localhost:8080/"
        },
        "outputId": "e22a5f92-74f8-4728-ebbd-84d1d334fe74"
      },
      "execution_count": 4,
      "outputs": [
        {
          "output_type": "stream",
          "name": "stdout",
          "text": [
            "Training set shape: X_train=(1382, 17), y_train=(1382,)\n",
            "Test set shape: X_test=(346, 17), y_test=(346,)\n"
          ]
        }
      ]
    },
    {
      "cell_type": "code",
      "source": [
        "from sklearn.preprocessing import LabelEncoder\n",
        "\n",
        "# Inisialisasi LabelEncoder\n",
        "le = LabelEncoder()\n",
        "\n",
        "# Encoding target label\n",
        "y_train = le.fit_transform(y_train)  # Menggunakan fit_transform untuk data training\n",
        "y_test = le.transform(y_test)       # Menggunakan transform untuk data testing"
      ],
      "metadata": {
        "id": "FJlxcy8og401"
      },
      "execution_count": 5,
      "outputs": []
    },
    {
      "cell_type": "code",
      "source": [
        "print(X_train['Cluster'].unique())\n",
        "print(X_test['Cluster'].unique())"
      ],
      "metadata": {
        "colab": {
          "base_uri": "https://localhost:8080/"
        },
        "id": "K681sDHpg821",
        "outputId": "fd10045f-f3ea-431b-d8fe-0fb1d0481a34"
      },
      "execution_count": 6,
      "outputs": [
        {
          "output_type": "stream",
          "name": "stdout",
          "text": [
            "['Frekuensi olahraga rendah dan pemula'\n",
            " 'Frekuensi olahraga rendah dan menengah'\n",
            " 'Frekuensi olahraga sedang dan menengah'\n",
            " 'Frekuensi olahraga tinggi dan mahir'\n",
            " 'Frekuensi olahraga tinggi dan menengah'\n",
            " 'Frekuensi olahraga sedang dan pemula']\n",
            "['Frekuensi olahraga rendah dan pemula'\n",
            " 'Frekuensi olahraga rendah dan menengah'\n",
            " 'Frekuensi olahraga sedang dan menengah'\n",
            " 'Frekuensi olahraga sedang dan pemula'\n",
            " 'Frekuensi olahraga tinggi dan menengah'\n",
            " 'Frekuensi olahraga tinggi dan mahir']\n"
          ]
        }
      ]
    },
    {
      "cell_type": "markdown",
      "source": [
        "# **4. Membangun Model Klasifikasi**\n"
      ],
      "metadata": {
        "id": "IVPbB03CMhTT"
      }
    },
    {
      "cell_type": "markdown",
      "source": [
        "## **a. Membangun Model Klasifikasi**"
      ],
      "metadata": {
        "id": "Ned1pL9zMmBK"
      }
    },
    {
      "cell_type": "markdown",
      "source": [
        "Setelah memilih algoritma klasifikasi yang sesuai, langkah selanjutnya adalah melatih model menggunakan data latih.\n",
        "\n",
        "Berikut adalah rekomendasi tahapannya.\n",
        "1. Pilih algoritma klasifikasi yang sesuai, seperti Logistic Regression, Decision Tree, Random Forest, atau K-Nearest Neighbors (KNN).\n",
        "2. Latih model menggunakan data latih."
      ],
      "metadata": {
        "id": "WAWzPOE4Nkti"
      }
    },
    {
      "cell_type": "code",
      "source": [
        "from sklearn.compose import ColumnTransformer\n",
        "from sklearn.pipeline import Pipeline\n",
        "from sklearn.preprocessing import OneHotEncoder, StandardScaler\n",
        "from sklearn.ensemble import RandomForestClassifier\n",
        "from sklearn.model_selection import train_test_split\n",
        "from sklearn.metrics import classification_report, confusion_matrix\n",
        "\n",
        "# 1. Memisahkan fitur dan target\n",
        "X = df.drop(columns=['Cluster', 'Unnamed: 0'])  # Drop target dan indeks\n",
        "y = df['Cluster']\n",
        "\n",
        "# 2. Encoding target label\n",
        "le = LabelEncoder()\n",
        "y = le.fit_transform(y)\n",
        "\n",
        "# 3. Membagi dataset\n",
        "X_train, X_test, y_train, y_test = train_test_split(X, y, test_size=0.2, random_state=42)\n",
        "\n",
        "# 4. Menentukan kolom numerik dan kategori\n",
        "numeric_features = X.select_dtypes(include=['float64', 'int64']).columns\n",
        "categorical_features = X.select_dtypes(include=['object']).columns\n",
        "\n",
        "# 5. Pipeline preprocessing\n",
        "preprocessor = ColumnTransformer(\n",
        "    transformers=[\n",
        "        ('num', StandardScaler(), numeric_features),   # Standarisasi fitur numerik\n",
        "        ('cat', OneHotEncoder(), categorical_features) # Encoding fitur kategori\n",
        "    ])\n",
        "\n",
        "# 6. Pipeline model\n",
        "pipeline = Pipeline(steps=[\n",
        "    ('preprocessor', preprocessor),\n",
        "    ('classifier', RandomForestClassifier(random_state=42))\n",
        "])\n",
        "\n",
        "# 7. Melatih model\n",
        "pipeline.fit(X_train, y_train)\n",
        "\n",
        "# 8. Evaluasi model\n",
        "y_pred = pipeline.predict(X_test)\n",
        "print(\"Classification Report:\\n\", classification_report(y_test, y_pred))\n",
        "print(\"Confusion Matrix:\\n\", confusion_matrix(y_test, y_pred))\n",
        "\n",
        "# 9. Menampilkan mapping LabelEncoder\n",
        "print(\"Mapping LabelEncoder:\", dict(zip(le.classes_, le.transform(le.classes_))))\n"
      ],
      "metadata": {
        "id": "4JYxBe87NLDk",
        "colab": {
          "base_uri": "https://localhost:8080/"
        },
        "outputId": "1cc64e6d-23ce-4677-bb47-600e7c1273b2"
      },
      "execution_count": 7,
      "outputs": [
        {
          "output_type": "stream",
          "name": "stdout",
          "text": [
            "Classification Report:\n",
            "               precision    recall  f1-score   support\n",
            "\n",
            "           0       1.00      1.00      1.00        67\n",
            "           1       1.00      1.00      1.00        90\n",
            "           2       1.00      1.00      1.00        44\n",
            "           3       1.00      1.00      1.00        21\n",
            "           4       1.00      1.00      1.00        66\n",
            "           5       1.00      1.00      1.00        58\n",
            "\n",
            "    accuracy                           1.00       346\n",
            "   macro avg       1.00      1.00      1.00       346\n",
            "weighted avg       1.00      1.00      1.00       346\n",
            "\n",
            "Confusion Matrix:\n",
            " [[67  0  0  0  0  0]\n",
            " [ 0 90  0  0  0  0]\n",
            " [ 0  0 44  0  0  0]\n",
            " [ 0  0  0 21  0  0]\n",
            " [ 0  0  0  0 66  0]\n",
            " [ 0  0  0  0  0 58]]\n",
            "Mapping LabelEncoder: {'Frekuensi olahraga rendah dan menengah': 0, 'Frekuensi olahraga rendah dan pemula': 1, 'Frekuensi olahraga sedang dan menengah': 2, 'Frekuensi olahraga sedang dan pemula': 3, 'Frekuensi olahraga tinggi dan mahir': 4, 'Frekuensi olahraga tinggi dan menengah': 5}\n"
          ]
        }
      ]
    },
    {
      "cell_type": "markdown",
      "source": [
        "Tulis narasi atau penjelasan algoritma yang Anda gunakan."
      ],
      "metadata": {
        "id": "seYoHNY3XU1y"
      }
    },
    {
      "cell_type": "markdown",
      "source": [
        "## **b. Evaluasi Model Klasifikasi**"
      ],
      "metadata": {
        "id": "ergzChZFEL-O"
      }
    },
    {
      "cell_type": "markdown",
      "source": [
        "Berikut adalah **rekomendasi** tahapannya.\n",
        "1. Lakukan prediksi menggunakan data uji.\n",
        "2. Hitung metrik evaluasi seperti Accuracy dan F1-Score (Opsional: Precision dan Recall).\n",
        "3. Buat confusion matrix untuk melihat detail prediksi benar dan salah."
      ],
      "metadata": {
        "id": "zOm68u-7NpLT"
      }
    },
    {
      "cell_type": "code",
      "source": [
        "from sklearn.metrics import classification_report, confusion_matrix, accuracy_score\n",
        "\n",
        "# Evaluasi model\n",
        "y_pred = pipeline.predict(X_test)\n",
        "\n",
        "# Metrik performa\n",
        "print(\"Classification Report:\\n\", classification_report(y_test, y_pred))\n",
        "print(\"Confusion Matrix:\\n\", confusion_matrix(y_test, y_pred))\n",
        "print(\"Accuracy:\", accuracy_score(y_test, y_pred))"
      ],
      "metadata": {
        "id": "tMq4QAssNLip",
        "colab": {
          "base_uri": "https://localhost:8080/"
        },
        "outputId": "d2c1750c-4d0a-4f40-c973-e7458d089743"
      },
      "execution_count": 8,
      "outputs": [
        {
          "output_type": "stream",
          "name": "stdout",
          "text": [
            "Classification Report:\n",
            "               precision    recall  f1-score   support\n",
            "\n",
            "           0       1.00      1.00      1.00        67\n",
            "           1       1.00      1.00      1.00        90\n",
            "           2       1.00      1.00      1.00        44\n",
            "           3       1.00      1.00      1.00        21\n",
            "           4       1.00      1.00      1.00        66\n",
            "           5       1.00      1.00      1.00        58\n",
            "\n",
            "    accuracy                           1.00       346\n",
            "   macro avg       1.00      1.00      1.00       346\n",
            "weighted avg       1.00      1.00      1.00       346\n",
            "\n",
            "Confusion Matrix:\n",
            " [[67  0  0  0  0  0]\n",
            " [ 0 90  0  0  0  0]\n",
            " [ 0  0 44  0  0  0]\n",
            " [ 0  0  0 21  0  0]\n",
            " [ 0  0  0  0 66  0]\n",
            " [ 0  0  0  0  0 58]]\n",
            "Accuracy: 1.0\n"
          ]
        }
      ]
    },
    {
      "cell_type": "markdown",
      "source": [
        "Tulis hasil evaluasi algoritma yang digunakan, jika Anda menggunakan 2 algoritma, maka bandingkan hasilnya."
      ],
      "metadata": {
        "id": "H4_9OwrsXZlz"
      }
    },
    {
      "cell_type": "markdown",
      "source": [
        "## **c. Tuning Model Klasifikasi (Optional)**"
      ],
      "metadata": {
        "id": "ph9yIYDXEPuB"
      }
    },
    {
      "cell_type": "markdown",
      "source": [
        "Gunakan GridSearchCV, RandomizedSearchCV, atau metode lainnya untuk mencari kombinasi hyperparameter terbaik"
      ],
      "metadata": {
        "id": "-Bikx3LINv5e"
      }
    },
    {
      "cell_type": "code",
      "source": [
        "from sklearn.model_selection import RandomizedSearchCV\n",
        "import numpy as np\n",
        "\n",
        "# Hyperparameter yang akan diuji\n",
        "param_dist = {\n",
        "    'classifier__n_estimators': [50, 100, 200, 300],\n",
        "    'classifier__max_depth': [None, 10, 20, 30, 40],\n",
        "    'classifier__min_samples_split': [2, 5, 10],\n",
        "    'classifier__min_samples_leaf': [1, 2, 4],\n",
        "    'classifier__bootstrap': [True, False]\n",
        "}\n",
        "\n",
        "# RandomizedSearchCV\n",
        "random_search = RandomizedSearchCV(\n",
        "    estimator=pipeline,\n",
        "    param_distributions=param_dist,\n",
        "    n_iter=50,  # Jumlah iterasi pencarian\n",
        "    cv=5,  # Cross-validation dengan 5 fold\n",
        "    scoring='f1_weighted',  # Fokus pada F1-score\n",
        "    verbose=2,\n",
        "    random_state=42,\n",
        "    n_jobs=-1\n",
        ")\n",
        "\n",
        "# Cari parameter terbaik\n",
        "random_search.fit(X_train, y_train)\n",
        "\n",
        "# Menampilkan hasil terbaik\n",
        "print(\"Best Parameters:\", random_search.best_params_)\n",
        "print(\"Best Score:\", random_search.best_score_)\n",
        "\n",
        "# Evaluasi model terbaik\n",
        "best_model = random_search.best_estimator_\n",
        "y_pred = best_model.predict(X_test)\n",
        "print(\"Classification Report:\\n\", classification_report(y_test, y_pred))"
      ],
      "metadata": {
        "id": "winbFzb8NL95",
        "colab": {
          "base_uri": "https://localhost:8080/"
        },
        "outputId": "a26f80ec-16ec-4c6f-9afa-cc9b1f347f58"
      },
      "execution_count": 12,
      "outputs": [
        {
          "output_type": "stream",
          "name": "stdout",
          "text": [
            "Fitting 5 folds for each of 50 candidates, totalling 250 fits\n"
          ]
        },
        {
          "output_type": "stream",
          "name": "stderr",
          "text": [
            "/usr/local/lib/python3.10/dist-packages/numpy/ma/core.py:2820: RuntimeWarning: invalid value encountered in cast\n",
            "  _data = np.array(data, dtype=dtype, copy=copy,\n"
          ]
        },
        {
          "output_type": "stream",
          "name": "stdout",
          "text": [
            "Best Parameters: {'classifier__n_estimators': 50, 'classifier__min_samples_split': 10, 'classifier__min_samples_leaf': 1, 'classifier__max_depth': 10, 'classifier__bootstrap': False}\n",
            "Best Score: 1.0\n",
            "Classification Report:\n",
            "               precision    recall  f1-score   support\n",
            "\n",
            "           0       1.00      1.00      1.00        67\n",
            "           1       1.00      1.00      1.00        90\n",
            "           2       1.00      1.00      1.00        44\n",
            "           3       1.00      1.00      1.00        21\n",
            "           4       1.00      1.00      1.00        66\n",
            "           5       1.00      1.00      1.00        58\n",
            "\n",
            "    accuracy                           1.00       346\n",
            "   macro avg       1.00      1.00      1.00       346\n",
            "weighted avg       1.00      1.00      1.00       346\n",
            "\n"
          ]
        }
      ]
    },
    {
      "cell_type": "markdown",
      "source": [
        "## **d. Evaluasi Model Klasifikasi setelah Tuning (Optional)**"
      ],
      "metadata": {
        "id": "hE7pqlEPEYzI"
      }
    },
    {
      "cell_type": "markdown",
      "source": [
        "Berikut adalah rekomendasi tahapannya.\n",
        "1. Gunakan model dengan hyperparameter terbaik.\n",
        "2. Hitung ulang metrik evaluasi untuk melihat apakah ada peningkatan performa."
      ],
      "metadata": {
        "id": "feaPESoeN0zz"
      }
    },
    {
      "cell_type": "code",
      "source": [
        "# Prediksi data testing dengan model terbaik\n",
        "y_pred = best_model.predict(X_test)\n",
        "\n",
        "from sklearn.metrics import classification_report\n",
        "\n",
        "# Evaluasi performa model\n",
        "print(\"Classification Report:\\n\", classification_report(y_test, y_pred))"
      ],
      "metadata": {
        "id": "HTXZRvEeNMb1",
        "colab": {
          "base_uri": "https://localhost:8080/"
        },
        "outputId": "49bcaf47-48d3-4417-8dd7-63594aa59c50"
      },
      "execution_count": 13,
      "outputs": [
        {
          "output_type": "stream",
          "name": "stdout",
          "text": [
            "Classification Report:\n",
            "               precision    recall  f1-score   support\n",
            "\n",
            "           0       1.00      1.00      1.00        67\n",
            "           1       1.00      1.00      1.00        90\n",
            "           2       1.00      1.00      1.00        44\n",
            "           3       1.00      1.00      1.00        21\n",
            "           4       1.00      1.00      1.00        66\n",
            "           5       1.00      1.00      1.00        58\n",
            "\n",
            "    accuracy                           1.00       346\n",
            "   macro avg       1.00      1.00      1.00       346\n",
            "weighted avg       1.00      1.00      1.00       346\n",
            "\n"
          ]
        }
      ]
    },
    {
      "cell_type": "code",
      "source": [
        "# Label names dictionary\n",
        "label_names = {\n",
        "    0: \"Frekuensi olahraga rendah dan pemula\",\n",
        "    1: \"Frekuensi olahraga tinggi dan mahir\",\n",
        "    2: \"Frekuensi olahraga sedang dan menengah\",\n",
        "    3: \"Frekuensi olahraga rendah dan menengah\",\n",
        "    4: \"Frekuensi olahraga tinggi dan menengah\",\n",
        "    5: \"Frekuensi olahraga sedang dan pemula\",\n",
        "}\n",
        "\n",
        "# Mengambil nama label berdasarkan key\n",
        "label_names_list = [label_names[i] for i in range(len(label_names))]\n",
        "\n",
        "# Import the necessary library if you haven't already\n",
        "from sklearn.metrics import confusion_matrix\n",
        "\n",
        "# Calculate the confusion matrix\n",
        "cm = confusion_matrix(y_test, y_pred)  # Assuming y_test and y_pred are defined\n",
        "\n",
        "# Visualisasi confusion matrix dengan label names\n",
        "plt.figure(figsize=(10, 8))\n",
        "sns.heatmap(cm, annot=True, fmt='d', cmap='Blues', xticklabels=label_names_list, yticklabels=label_names_list)\n",
        "plt.xlabel('Predicted Labels')\n",
        "plt.ylabel('True Labels')\n",
        "plt.title('Confusion Matrix')\n",
        "plt.show()"
      ],
      "metadata": {
        "colab": {
          "base_uri": "https://localhost:8080/",
          "height": 941
        },
        "id": "ux9bJ_oVjpjY",
        "outputId": "acbc766d-a0ba-4df0-b453-7c7373a2f91b"
      },
      "execution_count": 15,
      "outputs": [
        {
          "output_type": "display_data",
          "data": {
            "text/plain": [
              "<Figure size 1000x800 with 2 Axes>"
            ],
            "image/png": "[encoded data removed]"
          },
          "metadata": {}
        }
      ]
    },
    {
      "cell_type": "code",
      "source": [
        "# Visualisasi distribusi variabel target\n",
        "plt.figure(figsize=(8, 4))\n",
        "sns.countplot(x='Kelas GYM', data=df, palette='viridis')\n",
        "plt.title('Distribusi Variabel Target (Kelas GYM)')\n",
        "plt.show()"
      ],
      "metadata": {
        "colab": {
          "base_uri": "https://localhost:8080/",
          "height": 520
        },
        "id": "hrP9L0gZkVrd",
        "outputId": "88a14e31-9826-42b0-b564-0e3bd97277db"
      },
      "execution_count": 16,
      "outputs": [
        {
          "output_type": "stream",
          "name": "stderr",
          "text": [
            "<ipython-input-16-9a31cc5f3e61>:3: FutureWarning: \n",
            "\n",
            "Passing `palette` without assigning `hue` is deprecated and will be removed in v0.14.0. Assign the `x` variable to `hue` and set `legend=False` for the same effect.\n",
            "\n",
            "  sns.countplot(x='Kelas GYM', data=df, palette='viridis')\n"
          ]
        },
        {
          "output_type": "display_data",
          "data": {
            "text/plain": [
              "<Figure size 800x400 with 1 Axes>"
            ],
            "image/png": "[encoded data removed]"
          },
          "metadata": {}
        }
      ]
    },
    {
      "cell_type": "markdown",
      "source": [
        "## **e. Analisis Hasil Evaluasi Model Klasifikasi**"
      ],
      "metadata": {
        "id": "ZRsOdm4uEgAW"
      }
    },
    {
      "cell_type": "markdown",
      "source": [
        "Berikut adalah **rekomendasi** tahapannya.\n",
        "1. Bandingkan hasil evaluasi sebelum dan setelah tuning (jika dilakukan).\n",
        "2. Identifikasi kelemahan model, seperti:\n",
        "  - Precision atau Recall rendah untuk kelas tertentu.\n",
        "  - Apakah model mengalami overfitting atau underfitting?\n",
        "3. Berikan rekomendasi tindakan lanjutan, seperti mengumpulkan data tambahan atau mencoba algoritma lain jika hasil belum memuaskan."
      ],
      "metadata": {
        "id": "Hm3BhSi6N4_l"
      }
    },
    {
      "cell_type": "markdown",
      "source": [
        "1. Perbandingan Evaluasi Model\n",
        "\n",
        "Sebelum Tuning\n",
        "\n",
        "Akurasi: 1.00 (100%)\n",
        "Precision, Recall, dan F1-score: 1.00 untuk semua kelas.\n",
        "\n",
        "Setelah Tuning\n",
        "\n",
        "Akurasi: 1.00 (100%)\n",
        "Precision, Recall, dan F1-score: Tetap 1.00 di semua kelas.\n",
        "\n",
        "2. Identifikasi Kelemahan Model\n",
        "\n",
        "Berdasarkan hasil evaluasi, tidak ada perbedaan performa model sebelum dan sesudah tuning.\n",
        "Model sudah mencapai akurasi sempurna (1.00) pada data uji, bahkan sebelum tuning dilakukan.\n",
        "\n",
        "Ketika akurasi model mencapai 100%, kemungkinan besar model mengalami overfitting, artinya performa di data uji terlalu sempurna. Ini bisa terjadi jika data uji memiliki pola yang sama dengan data latih atau jika data tidak cukup beragam.\n",
        "Walaupun performanya bagus, perlu dicek lebih lanjut apakah ini dapat direplikasi di data lain.\n",
        "\n",
        "Untuk saat ini precision dan recall sempurna di semua kelas (nilai = 1.00). Artinya, tidak ada indikasi ketidakseimbangan performa antar kelas.\n",
        "\n",
        "Identifikasi Kelemahan Model\n",
        "\n",
        "Nilai evaluasi yang \"terlalu sempurna\" kemungkinan disebabkan oleh data yang terlalu mudah dikenali atau model yang terlalu kompleks (misal n_estimators besar dan kedalaman pohon tinggi).\n",
        "\n",
        "Jika dataset kecil atau homogen, model akan mudah mempelajari pola tanpa tantangan yang signifikan.\n",
        "\n",
        "3. Tambahkan data baru yang lebih beragam atau gunakan data augmentasi untuk menantang model lebih lanjut.\n",
        "\n",
        "Model lain seperti XGBoost, LightGBM, atau SVM dapat dicoba untuk dibandingkan performanya dan memeriksa kestabilan model.\n",
        "\n",
        "Tambahkan regularisasi atau atur parameter seperti kedalaman pohon (max_depth) dan ukuran sampel (min_samples_split).\n",
        "\n"
      ],
      "metadata": {
        "id": "EU9y2imipY3t"
      }
    }
  ]
}